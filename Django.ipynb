{
 "cells": [
  {
   "cell_type": "markdown",
   "metadata": {},
   "source": [
    "# Django Notes\n",
    "\n",
    "\n",
    "## templatetags\n",
    "template tags are usually cryptic statements written in python html pages. It gets compiled to become complete html."
   ]
  },
  {
   "cell_type": "markdown",
   "metadata": {},
   "source": [
    "> Create Template tags directory in python app."
   ]
  },
  {
   "cell_type": "markdown",
   "metadata": {},
   "source": [
    "```\n",
    "polls/\n",
    "    __init__.py\n",
    "    models.py\n",
    "    templatetags/\n",
    "        __init__.py\n",
    "        poll_extras.py\n",
    "    views.py\n",
    "    \n",
    "```"
   ]
  },
  {
   "cell_type": "markdown",
   "metadata": {},
   "source": [
    "And then in your template use the following:\n",
    "```python\n",
    "{% load poll_extras %}\n",
    "```"
   ]
  },
  {
   "cell_type": "markdown",
   "metadata": {},
   "source": [
    "This is a security feature, it tells which files to load without loading them all in your project. Gives more control to your app."
   ]
  },
  {
   "cell_type": "markdown",
   "metadata": {},
   "source": [
    "## Custom Filters\n",
    "\n",
    "To be a valid template tag directory, the module must contain a module-level variable named register that is a template.Library instance, in which all tags and filters are registered.\n",
    "\n",
    "```python\n",
    "from django import template\n",
    "register = template.Library()\n",
    "```"
   ]
  },
  {
   "cell_type": "markdown",
   "metadata": {},
   "source": [
    "```python\n",
    "@register.filter(name=cut)\n",
    "def cut(value, arg):\n",
    "   return value.replace(arg)\n",
    "\n",
    "@register.filter\n",
    "def lower(value):\n",
    "    return value.lower()\n",
    "```\n",
    "\n",
    "or we can manually register the template tags\n",
    "```\n",
    "register.filter('cut',cut)\n",
    "register.filter('lower', lower)\n",
    "```"
   ]
  },
  {
   "cell_type": "markdown",
   "metadata": {},
   "source": [
    "# Custom template tags\n",
    "\n",
    "tags are usually called with ** { % % } ** tags. they are usually complicated than filters and can take many number of arguments."
   ]
  },
  {
   "cell_type": "markdown",
   "metadata": {},
   "source": [
    "## Simple tags\n",
    "\n",
    "django.template.Library.simple_tag()\n",
    "\n",
    "Many template tags take a number of arguments - strigns or template variables - and return a string after doing some processing based solely on the input arguments and some external information. \n",
    "\n",
    "To ease the creation of these types of tags, Django provides a helper function, simple_tag. This function, which is a method of django.template.Library, takes a function that accepts any number of arguments, wraps it in a render function and the other necessary bits mentioned above and registers it with the template system"
   ]
  },
  {
   "cell_type": "markdown",
   "metadata": {},
   "source": [
    "```python\n",
    "import datetime\n",
    "from django import template\n",
    "\n",
    "register = template.Library()\n",
    "\n",
    "@register.simple_tag\n",
    "def current_time(format_string):\n",
    "    return datetime.datetime.now().strftime(format_string)\n",
    "```"
   ]
  },
  {
   "cell_type": "markdown",
   "metadata": {},
   "source": [
    "If template tag needs to access current_context, you can use **takes_context** argument when registering your tag."
   ]
  },
  {
   "cell_type": "markdown",
   "metadata": {},
   "source": [
    "```python\n",
    "@register.simple_tag(takes_context=True)\n",
    "def current_time(context, format_string):\n",
    "    timezone = context['timezone']\n",
    "    return your_get_current_time_method(timezone, format_string)\n",
    "```"
   ]
  },
  {
   "cell_type": "markdown",
   "metadata": {},
   "source": [
    "Note that first argument must be called **context**\n",
    "\n",
    "simple_tag also takes named arguments\n",
    "\n",
    "```python\n",
    "@register.simple_tag\n",
    "def my_tag(a, b, *args, **kwargs):\n",
    "    warning = kwargs['warning']\n",
    "    profile = kwargs['profile']\n",
    "    ...\n",
    "    return ...\n",
    "```"
   ]
  },
  {
   "cell_type": "markdown",
   "metadata": {},
   "source": [
    "To use, we can simply call\n",
    "> {% my_tag 123 \"abcd\" book.title warning=message %}"
   ]
  },
  {
   "cell_type": "markdown",
   "metadata": {},
   "source": [
    "## Inclusion tag\n",
    "\n",
    "Another common type of template tag is the type that displays some data by rendering another template.\n",
    "\n",
    "```\n",
    "{% show_results poll %}\n",
    "```\n",
    "\n",
    "should give the output as\n",
    "```\n",
    "<ul>\n",
    "  <li> First choice </li>\n",
    "  <li> Second choice </li>\n",
    "  <li> third Choice </li>\n",
    "</li>\n",
    "```"
   ]
  },
  {
   "cell_type": "markdown",
   "metadata": {},
   "source": [
    "```python\n",
    "@register.inclusion_tag('results.html')\n",
    "def show_results(poll):\n",
    "    choices = poll.choice_set.all()\n",
    "    return {'choices': choices}\n",
    "```"
   ]
  },
  {
   "cell_type": "markdown",
   "metadata": {},
   "source": [
    "Sometimes your template require more number of arguments than you can pass through function. For those scenarios, we can pass context parameter\n",
    "```python\n",
    "@register.inclusion_tag('link.html', takes_context=True)\n",
    "def jump_link(context):\n",
    "    return {\n",
    "        'link': context['home_link'],\n",
    "        'title': context['home_title'],\n",
    "    }\n",
    "    \n",
    "    # with link.html as \n",
    "    Jump directly to <a href=\"{{ link }}\">{{ title }}</a>\n",
    "    \n",
    "    # We can simply call then\n",
    "    {% jump_link %}\n",
    "```"
   ]
  },
  {
   "cell_type": "markdown",
   "metadata": {},
   "source": [
    "## Assignment tag\n",
    "\n",
    "This is used when tag result should be stored as another variable\n",
    "\n",
    "```python\n",
    "@register.assignment_tag\n",
    "def get_current_time(format_string):\n",
    "    return datetime.datetime.now().strftime(format_string)\n",
    "    \n",
    "# It can be used as:\n",
    "{% get_current_time \"%Y-%m-%d %I:%M %p\" as the_time %}\n",
    "<p>The time is {{ the_time }}.</p>\n",
    "```"
   ]
  },
  {
   "cell_type": "markdown",
   "metadata": {},
   "source": [
    "## Advanced custom tags"
   ]
  },
  {
   "cell_type": "code",
   "execution_count": null,
   "metadata": {
    "collapsed": true
   },
   "outputs": [],
   "source": []
  }
 ],
 "metadata": {
  "kernelspec": {
   "display_name": "Python 2",
   "language": "python",
   "name": "python2"
  },
  "language_info": {
   "codemirror_mode": {
    "name": "ipython",
    "version": 2
   },
   "file_extension": ".py",
   "mimetype": "text/x-python",
   "name": "python",
   "nbconvert_exporter": "python",
   "pygments_lexer": "ipython2",
   "version": "2.7.10"
  }
 },
 "nbformat": 4,
 "nbformat_minor": 0
}
