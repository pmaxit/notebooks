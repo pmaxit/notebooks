{
 "cells": [
  {
   "cell_type": "markdown",
   "metadata": {},
   "source": [
    "# Lemon Graph Library\n",
    "\n",
    "Lemon graph library is c++ implementation of networks and graphs.\n",
    "\n",
    "## Directed graphs\n",
    "SmartDigraphbase is a class having nodes and arcs definition within. This base class defines low level function such as \n",
    "* Adding a node\n",
    "* Adding an edge\n",
    "* delete node\n",
    "* deleting edge\n",
    "\n",
    "It uses std vector to store nodes and arcs data. "
   ]
  },
  {
   "cell_type": "markdown",
   "metadata": {},
   "source": [
    "```c\n",
    "struct NodeT\n",
    "    {\n",
    "      int first_in, first_out;\n",
    "      NodeT() {}\n",
    "    };\n",
    "\n",
    "struct ArcT\n",
    "    {\n",
    "      int target, source, next_in, next_out;\n",
    "      ArcT() {}\n",
    "    };\n",
    "\n",
    "\n",
    "```"
   ]
  },
  {
   "cell_type": "markdown",
   "metadata": {},
   "source": [
    "NodeT node first_in will point to first_in of edge and then corresponding incidence edges will be at edge->next_in\n",
    "similary first out edge is pointed by first_out and corresponding other outwards edges from v will be at edge->next_out.\n",
    "\n",
    "Arct Target and source will be target and source of edges. \n",
    "next_in, next_out functionality as mentioned above."
   ]
  },
  {
   "cell_type": "markdown",
   "metadata": {},
   "source": [
    "```\n",
    "typedef DigraphExtender<SmartDigraphBase> ExtendedSmartDigraphBase;\n",
    "```"
   ]
  },
  {
   "cell_type": "markdown",
   "metadata": {},
   "source": [
    "DigraphExtender extends the basic implementation of digraph with iterators and maps. It has reference to its parent as **Parent**"
   ]
  },
  {
   "cell_type": "markdown",
   "metadata": {},
   "source": [
    "It implements\n",
    "* node_notifier\n",
    "* arc_notifier\n",
    "\n",
    "whenever there is some change in node_data or arc_data these notifiers are called."
   ]
  },
  {
   "cell_type": "markdown",
   "metadata": {},
   "source": [
    "It also implements Iterators for **Node** and **Arc**"
   ]
  },
  {
   "cell_type": "markdown",
   "metadata": {},
   "source": [
    "Extending to this, it also implements **OutArcIT** and **InArcIT**"
   ]
  },
  {
   "cell_type": "markdown",
   "metadata": {},
   "source": [
    "NodeMap is also implemented by DigraphExtender. NodeMap is a data map class which maps data to any graph entity be its node or arcs. It is used to associate dynamic data with the network."
   ]
  },
  {
   "cell_type": "markdown",
   "metadata": {},
   "source": [
    "**NodeMap** and **ArcMap** are impelmented here."
   ]
  },
  {
   "cell_type": "markdown",
   "metadata": {},
   "source": [
    "Lemon features only external property maps that are stored seperately from the related graph data structure, but they are updated automatically on the changes of the graph.\n",
    "\n",
    "Using LEMON, node and arc maps can be declared as follows:\n",
    "* SmartDigraph::NodeMap<std::string> label(g)\n",
    "* SmartDigraph::ArcMap<std::string> length(g)\n",
    "\n",
    "map values can be obtained and modified using corresponding overloaded version of operator[]() <br>\n",
    "* label[v] = \"source\"\n",
    "* length[e] = 2*length[f]"
   ]
  },
  {
   "cell_type": "code",
   "execution_count": null,
   "metadata": {
    "collapsed": true
   },
   "outputs": [],
   "source": []
  }
 ],
 "metadata": {
  "kernelspec": {
   "display_name": "Python 2",
   "language": "python",
   "name": "python2"
  },
  "language_info": {
   "codemirror_mode": {
    "name": "ipython",
    "version": 2
   },
   "file_extension": ".py",
   "mimetype": "text/x-python",
   "name": "python",
   "nbconvert_exporter": "python",
   "pygments_lexer": "ipython2",
   "version": "2.7.10"
  }
 },
 "nbformat": 4,
 "nbformat_minor": 0
}
