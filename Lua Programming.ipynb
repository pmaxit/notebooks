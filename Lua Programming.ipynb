{
 "cells": [
  {
   "cell_type": "markdown",
   "metadata": {},
   "source": [
    "# Lua Programming #"
   ]
  },
  {
   "cell_type": "markdown",
   "metadata": {},
   "source": [
    "### Data Types ###\n",
    "\n",
    "1. Booleans ( false, true )\n",
    "2. nil Nil is a type with single value, nil.\n",
    "3. Strings\n",
    "   Strings in lua are immutable types. You cannot change a character inside a string as you may in C; instead you create a new string with the desired notification\n",
    "   \n",
    "   \n",
    "   ```lua\n",
    "       a = \"one string\"\n",
    "       b = string.gsub(a, \"one\", \"another\") -- change string parts\n",
    "       print(a)\n",
    "       print(b)\n",
    "   ```\n",
    "   \n",
    "   Multiline input\n",
    "   ```lua\n",
    "   a = [[ \n",
    "       <html>\n",
    "       Hello world\n",
    "       </html\n",
    "       ]]\n",
    "   ```\n",
    "    Lua provides automatic conversion between datatypes\n",
    "    a = \"10\" + 1 => 11\n",
    "    print(\"hello\" .. \"world\") => helloworld"
   ]
  },
  {
   "cell_type": "markdown",
   "metadata": {},
   "source": [
    "#### Table ####"
   ]
  },
  {
   "cell_type": "markdown",
   "metadata": {},
   "source": [
    "Table types in lua are associative arrays like in python. You can store any string or integer on key places and anytype on value basis. \n",
    "\n",
    "```lua\n",
    "a= {}\n",
    "a[\"x\"] = 20\n",
    "print(a[\"x\"])\n",
    "print(a[\"y\"]) => nil\n",
    "```\n",
    "\n",
    "\n",
    "```lua\n",
    "a = {} -- empty table\n",
    "-- create 1000 new entries\n",
    "for i = 1,1000 do a[i] = i*2\n",
    "print(a[9])\n",
    "a[\"x\"] = 10\n",
    "print(a[\"x\"])\n",
    "print(a[\"y\"]) => nil\n",
    "\n",
    "\n",
    "```"
   ]
  },
  {
   "cell_type": "markdown",
   "metadata": {},
   "source": [
    "You can also represent keys of dictionary by \".\" operator . (a.x) in above"
   ]
  },
  {
   "cell_type": "markdown",
   "metadata": {},
   "source": [
    "Loop over the table data structure\n",
    "```lua\n",
    "for i,line in ipairs(a) do\n",
    "\n",
    "print(line)\n",
    "end\n",
    "\n",
    "```"
   ]
  },
  {
   "cell_type": "markdown",
   "metadata": {},
   "source": [
    "We can also initialize array using tables as:\n",
    "```lua\n",
    "    days = {\"saturday\", \"sunday\", \"monday\"}\n",
    "    days[1] => \"saturday\"\n",
    "    -- It always starts with 1\n",
    "    \n",
    "    days = {[0] => \"saturday\", \"sunday\", \"monday\" }\n",
    "    -- It now starts with 0\n",
    "```"
   ]
  },
  {
   "cell_type": "markdown",
   "metadata": {},
   "source": [
    "```lua\n",
    "    days = {\"x\"= 0, \"y\"=1}\n",
    "    days[\"x\"] => 0\n",
    "\n",
    "```"
   ]
  },
  {
   "cell_type": "markdown",
   "metadata": {},
   "source": [
    "### Local variable vs global variable\n",
    "\n",
    "```lua\n",
    "    j = 10 ; -- global variable\n",
    "    local i = 10;  -- local variable\n",
    "    \n",
    "    x = 10\n",
    "    local i = 1        -- local to the chunk\n",
    "    \n",
    "    while i<=x do\n",
    "      local x = i*2    -- local to the while body\n",
    "      print(x)         --> 2, 4, 6, 8, ...\n",
    "      i = i + 1\n",
    "    end\n",
    "    \n",
    "    if i > 20 then\n",
    "      local x          -- local to the \"then\" body\n",
    "      x = 20\n",
    "      print(x + 2)\n",
    "    else\n",
    "      print(x)         --> 10  (the global one)\n",
    "    end\n",
    "    \n",
    "    print(x)           --> 10  (the global one)\n",
    "\n",
    "```\n",
    "\n",
    "2nd line local x = 1 is complete chunk by itself. As soon as you enter this line, lua runs and starts a new chunk in the next line. By then local variable is out of the scope. To run such examples, you should enclose all code in do block.\n",
    "\n",
    "Always surround local variables in some block\n",
    "\n",
    "```lua\n",
    "do\n",
    "      local a2 = 2*a\n",
    "      local d = sqrt(b^2 - 4*a*c)\n",
    "      x1 = (-b + d)/a2\n",
    "      x2 = (-b - d)/a2\n",
    "    end          -- scope of `a2' and `d' ends here\n",
    "    print(x1, x2)\n",
    "\n",
    "```"
   ]
  },
  {
   "cell_type": "markdown",
   "metadata": {},
   "source": [
    "### Conditional branches"
   ]
  },
  {
   "cell_type": "markdown",
   "metadata": {},
   "source": [
    "An if statement tests its conditions and executes its \"then-part\" or \"else-part\" accordingly. The else-part is optional.\n",
    "\n",
    "```lua\n",
    "if a < 0 then a = 0 end\n",
    "\n",
    "if line > MAXLINES then\n",
    "showpage()\n",
    "line = 0\n",
    "end\n",
    "\n",
    "\n",
    "if op == \"+\" then\n",
    "      r = a + b\n",
    "    elseif op == \"-\" then\n",
    "      r = a - b\n",
    "    elseif op == \"*\" then\n",
    "      r = a*b\n",
    "    elseif op == \"/\" then\n",
    "      r = a/b\n",
    "    else\n",
    "      error(\"invalid operation\")\n",
    "    end\n",
    "```"
   ]
  },
  {
   "cell_type": "markdown",
   "metadata": {},
   "source": [
    "Here is how while loop is handled\n",
    "```lua\n",
    "    while a[i] do\n",
    "        print(a[i])\n",
    "        i = i + 1\n",
    "    end\n",
    "\n",
    "```"
   ]
  },
  {
   "cell_type": "markdown",
   "metadata": {},
   "source": [
    "The for statements has two variants. *the numeric for* and *generic for*"
   ]
  },
  {
   "cell_type": "markdown",
   "metadata": {},
   "source": [
    "```lua\n",
    "for var=exp1, exp2, exp3 do\n",
    "\n",
    "end\n",
    "\n",
    "```\n",
    "Loop will execute the loop from exp1 to exp2 taking exp3 as a step increment to var. Third expression is optional; when absent Lua assumes one as the step value;\n",
    "\n",
    "```\n",
    "    for i=1, f(x) do print(i) end\n",
    "    for i=10,1,-1 do print(i) end\n",
    "```\n",
    "There are three best practices on for loop\n",
    "1. All three expressions are evaluated only in the starting\n",
    "2. Control variable is only visible inside the loop. \n",
    "3. Never change the value of conrol variable inside the loop. Effect of such changes are unpredictable.\n",
    "\n",
    "#### Generic for #####\n",
    "\n",
    "```lua\n",
    "-- print all values of array 'a'\n",
    "for i,v in ipairs(a) do print(v) end\n",
    "\n",
    "-- and if we want only keys to traverse\n",
    "for k in pairs(t) do print(k) end\n",
    "```\n",
    "\n",
    "Let's create a reverse dictionary of given key value pairs\n",
    "```\n",
    "revdays = {}\n",
    "for i,v in ipairs(days) do\n",
    "revdays[v] = i\n",
    "end\n",
    "\n",
    "```\n"
   ]
  },
  {
   "cell_type": "markdown",
   "metadata": {},
   "source": [
    "##### Break or return ######\n",
    "\n",
    "For syntactic reasons, a break or return can appear only as the last statement of a block (in other words, as the last statement in your chunk or just before an end, an else, or an until). For instance, in the next example, break is the last statement of the then block.\n",
    "\n",
    "    local i = 1\n",
    "    while a[i] do\n",
    "      if a[i] == v then break end\n",
    "      i = i + 1\n",
    "    end\n",
    "\n",
    "```lua\n",
    "function foo ()\n",
    "      return          --<< SYNTAX ERROR\n",
    "      -- `return' is the last statement in the next block\n",
    "      do return end   -- OK\n",
    "      ...             -- statements not reached\n",
    "    end\n",
    "\n",
    "```"
   ]
  },
  {
   "cell_type": "markdown",
   "metadata": {},
   "source": [
    "## Functions ##\n",
    "\n",
    "Functions are the main mechanism for abstraction of statements and expressions in Lua.\n",
    "\n",
    "If there is only one argument to function. Brackets are optional\n",
    "\n",
    "```\n",
    "print \"Hello World\"     <-->     print(\"Hello World\")\n",
    "    dofile 'a.lua'          <-->     dofile ('a.lua')\n",
    "    print [[a multi-line    <-->     print([[a multi-line\n",
    "     message]]                        message]])\n",
    "    f{x=10, y=20}           <-->     f({x=10, y=20})\n",
    "    type{}                  <-->     type({})\n",
    "```"
   ]
  },
  {
   "cell_type": "markdown",
   "metadata": {},
   "source": [
    "```lua\n",
    "x,y = foo2()        -- x='a', y='b'\n",
    "    x = foo2()          -- x='a', 'b' is discarded\n",
    "    x,y,z = 10,foo2()   -- x=10, y='a', z='b'\n",
    "--If a function has no results, or not as many results as we need, Lua produces nils:\n",
    "    x,y = foo0()      -- x=nil, y=nil\n",
    "    x,y = foo1()      -- x='a', y=nil\n",
    "    x,y,z = foo2()    -- x='a', y='b', z=nil\n",
    "--A function call that is not the last element in the list always produces one result:\n",
    "    x,y = foo2(), 20      -- x='a', y=20\n",
    "    x,y = foo0(), 20, 30  -- x='nil', y=20, 30 is discarded\n",
    "```"
   ]
  },
  {
   "cell_type": "markdown",
   "metadata": {},
   "source": [
    "#### Variable number of arguments "
   ]
  },
  {
   "cell_type": "markdown",
   "metadata": {},
   "source": [
    "Suppose now that we want to redefine print in Lua: Perhaps our system does not have a stdout and so, instead of printing its arguments, print stores them in a global variable, for later use. We can write this new function in Lua as follows:\n",
    "\n",
    "    printResult = \"\"\n",
    "    \n",
    "    function print (...)\n",
    "      arg = {...}\n",
    "      for i,v in ipairs(arg) do\n",
    "        printResult = printResult .. tostring(v) .. \"\\t\"\n",
    "      end\n",
    "      printResult = printResult .. \"\\n\"\n",
    "    end"
   ]
  },
  {
   "cell_type": "markdown",
   "metadata": {},
   "source": [
    "The three dots (...) in the parameter list indicate that the function has a variable number of arguments. When this function is called, all its arguments are collected in single table, which the function accesses as a hidden parameter named arg. Besides those arguments it also has extra field, n, with the actual number of arguments collected."
   ]
  },
  {
   "cell_type": "markdown",
   "metadata": {},
   "source": [
    "Sometimes, a function with a variable number of arguments needs to pass them all to another function. All it has to do is to call the other function using unpack(arg) as argument: unpack will return all values in arg, which will be passed to the other function. A good example of this use is a function to write formatted text. Lua provides separate functions to format text (string.format, similar to the sprintf function from the C library) and to write text (io.write). Of course, it is easy to combine both functions into a single one, except that this new function has to pass a variable number of values to format. This is a job for unpack:\n",
    "\n",
    "    function fwrite (fmt, ...)\n",
    "      return io.write(string.format(fmt, unpack(arg)))\n",
    "    end"
   ]
  },
  {
   "cell_type": "markdown",
   "metadata": {},
   "source": [
    "#### Namd arguments #####\n",
    "```lua\n",
    "function rename(arg)\n",
    "   os.rename(arg.old, arg.new)\n",
    "   \n",
    "rename(old ='input', new = 'output)  -- no direct support\n",
    "rename({old = 'input', new ='output'})\n",
    "rename{old='input', new 'output'}\n",
    "```\n",
    "it is then collected to \"arg\""
   ]
  },
  {
   "cell_type": "markdown",
   "metadata": {},
   "source": [
    "#### Non Global functions\n",
    "\n",
    "Functions are mostly defined in tables. io.read , math.sin\n",
    "To create such function in Lua, we only have to put together the regular syntax\n",
    "\n",
    "```lua\n",
    "Lib = {}\n",
    "Lib.foo = function(x,y)  return x + y end\n",
    "Lib.goo = function(x,y)  return x - y end\n",
    "\n",
    "\n",
    "Lib = {\n",
    "goo = function(x,y) return x - y end\n",
    "foo = function(x,y) return x + y end\n",
    "}\n",
    "\n",
    "-- It can also be taken care as:\n",
    "Lib = {}\n",
    "function Lib.foo(x,y)\n",
    "       return x + y\n",
    "end\n",
    "\n",
    "function Lib.goo(x,y)\n",
    "    return x - y\n",
    "end\n",
    "\n",
    "\n",
    "```"
   ]
  },
  {
   "cell_type": "markdown",
   "metadata": {},
   "source": [
    "A subtle difference arises when we call recursive function\n",
    "```lua\n",
    " local fact = function (n)\n",
    "      if n == 0 then return 1\n",
    "      else return n*fact(n-1)   -- buggy\n",
    "      end\n",
    "    end\n",
    "```\n",
    "\n",
    "because by the time it reaches fact(n-1) chunk has not been executed and hence fact is not defined. For that we eitehr define fact before \n",
    "```lua\n",
    " local fact\n",
    "    fact = function (n)\n",
    "      if n == 0 then return 1\n",
    "      else return n*fact(n-1)\n",
    "      end\n",
    "    end\n",
    "```    \n",
    " or do like this\n",
    " ```lua\n",
    "  local function fact (n)\n",
    "      if n == 0 then return 1\n",
    "      else return n*fact(n-1)\n",
    "      end\n",
    "    end\n",
    " \n",
    "```\n",
    " \n",
    "Or if there are multiple definitions are required then create global definition first\n",
    "```\n",
    "local f, g    -- `forward' declarations\n",
    "    \n",
    "    function g ()\n",
    "      ...  f() ...\n",
    "    end\n",
    "    \n",
    "    function f ()\n",
    "      ...  g() ...\n",
    "    end\n",
    "```"
   ]
  },
  {
   "cell_type": "markdown",
   "metadata": {},
   "source": [
    "### Require Function\n",
    "\n",
    "Lua offers a higher level function to load and run libraries, called require. It searches for library in path and avoids loading of file multiple times."
   ]
  },
  {
   "cell_type": "markdown",
   "metadata": {},
   "source": [
    "### Object Oriented Programming\n",
    "A table in lua is more or less an object. Like objects, it can have properties and functions.\n",
    "```lua\n",
    "Account =  { balance = 0 }\n",
    "function Account.withdraw ( v )\n",
    "Account.balance = Account.balance -v\n",
    "end\n",
    "```\n",
    "\n",
    "Use of Account name inside a function is not advisable. This can be changed to\n",
    "\n",
    "```lua\n",
    "function Account.withdraw(self, v)\n",
    "self.balance = self.balance - v\n",
    "end\n",
    "```\n",
    "```lua\n",
    "a1 = Account\n",
    "a1.withdraw(a1,200)\n",
    "```\n",
    "or we can call it as\n",
    "```lua\n",
    "a1:withdraw(200)\n",
    "``` \n",
    "which will supply self parameter automatically."
   ]
  },
  {
   "cell_type": "markdown",
   "metadata": {},
   "source": [
    "```lua\n",
    "local function addToScore(num)\n",
    "score = score + num\n",
    "return score\n",
    "end\n",
    "```\n",
    "\n",
    "this is short construct made for lua programming\n",
    "```lua\n",
    "local addToScore = nil\n",
    "function addToScore(num)\n",
    "\n",
    "end\n",
    "--This will not be available to _G namespace\n",
    "```"
   ]
  },
  {
   "cell_type": "markdown",
   "metadata": {},
   "source": [
    "d = {name = 1, person = 2}\n",
    "```\n",
    "#d => length of dictionary ..\n",
    "```"
   ]
  }
 ],
 "metadata": {
  "kernelspec": {
   "display_name": "Python 2",
   "language": "python",
   "name": "python2"
  },
  "language_info": {
   "codemirror_mode": {
    "name": "ipython",
    "version": 2
   },
   "file_extension": ".py",
   "mimetype": "text/x-python",
   "name": "python",
   "nbconvert_exporter": "python",
   "pygments_lexer": "ipython2",
   "version": "2.7.10"
  }
 },
 "nbformat": 4,
 "nbformat_minor": 0
}
