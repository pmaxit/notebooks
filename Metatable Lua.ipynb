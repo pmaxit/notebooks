{
 "cells": [
  {
   "cell_type": "markdown",
   "metadata": {},
   "source": [
    "# Metatables and Metamethods\n",
    "\n",
    "Metatables allow us to change the behaviour of a table. When we apply an operation on a table, it first checks it metatable and then perform.\n",
    "\n",
    "```lua\n",
    "t = {}\n",
    "print(getmetatable(t)) => nil\n",
    "```\n",
    "\n",
    "```lua\n",
    "t = {}\n",
    "setmetatable(t, t1)\n",
    "assert(getmetatable(t) == t1) => true\n",
    "```"
   ]
  },
  {
   "cell_type": "markdown",
   "metadata": {},
   "source": [
    "Metatable gives opportunity to override common methods\n",
    "```\n",
    "The available metamethods are:\n",
    "__add (LHS + RHS)\n",
    "__sub (LHS - RHS)\n",
    "__mul (LHS * RHS)\n",
    "__div (LHS / RHS)\n",
    "__mod (LHS % RHS)\n",
    "__pow (LHS ^ RHS)\n",
    "__unm (-RHS)\n",
    "__concat (LHS .. RHS)\n",
    "__len (#RHS)\n",
    "__eq (LHS == RHS)\n",
    "__lt (LHS < RHS)\n",
    "__le (LHS <= RHS)\n",
    "__index - Table access\n",
    "__newindex - Table assignment\n",
    "__call - Whenever the object is called like a function\n",
    "__tostring - Lets you decide what using tostring() on your object will return\n",
    "\n",
    "```"
   ]
  },
  {
   "cell_type": "markdown",
   "metadata": {},
   "source": [
    "You define one table and then corresponding methods which can be overriden for example\n",
    "\n",
    "*LOCAL VARIABLES ARE NOT VISIBLE IN INTERPRETER.\n",
    "\n",
    "because it runs each line in different scope"
   ]
  },
  {
   "cell_type": "markdown",
   "metadata": {},
   "source": [
    "```lua\n",
    "local mt = {} -- if it is executed inside a file. it will be visible in whole script.\n",
    "\n",
    "local obj = {}\n",
    "setmetatable(obj,mt)\n",
    "```\n",
    "\n",
    "```lua\n",
    "function mt:__tostring()\n",
    "return self.r .. self.b .. self.g\n",
    "end\n",
    "\n",
    "function mt:__mul(m)\n",
    "self.r = self.r*m\n",
    "self.g = self.g*m\n",
    "self.b = self.b*m\n",
    "end\n",
    "\n",
    "function mt:__div(m)\n",
    "self.r = self.r / m\n",
    "self.g = self.g / m\n",
    "self.b = self.b / m\n",
    "end\n",
    "```"
   ]
  },
  {
   "cell_type": "markdown",
   "metadata": {},
   "source": [
    "### Set manipulation library\n",
    "\n",
    "```lua\n",
    "Set = {}\n",
    "    \n",
    "    function Set.new (t)\n",
    "      local set = {}\n",
    "      for _, l in ipairs(t) do set[l] = true end\n",
    "      return set\n",
    "    end\n",
    "    \n",
    "    function Set.union (a,b)\n",
    "      local res = Set.new{}\n",
    "      for k in pairs(a) do res[k] = true end\n",
    "      for k in pairs(b) do res[k] = true end\n",
    "      return res\n",
    "    end\n",
    "    \n",
    "    function Set.intersection (a,b)\n",
    "      local res = Set.new{}\n",
    "      for k in pairs(a) do\n",
    "        res[k] = b[k]\n",
    "      end\n",
    "      return res\n",
    "    end\n",
    "\n",
    "```"
   ]
  },
  {
   "cell_type": "markdown",
   "metadata": {},
   "source": [
    "We need to create a metatable and assign magic function value to above functions.\n",
    "\n",
    "```lua\n",
    "Set.mt = {}\n",
    "setmetatable(set, Set.mt)\n",
    "Set.mt.__add = Set.union\n",
    "Set.mt.__mul = Set.intersection\n",
    "\n",
    "```"
   ]
  },
  {
   "cell_type": "markdown",
   "metadata": {},
   "source": [
    "__index method helps to search for undefined access.\n",
    "\n",
    "if __index is assigned to a table it searches in that method."
   ]
  },
  {
   "cell_type": "markdown",
   "metadata": {},
   "source": [
    "```lua\n",
    "Window.mt.__index = Window.prototype\n",
    "```"
   ]
  },
  {
   "cell_type": "markdown",
   "metadata": {},
   "source": [
    "When we call Window.prototype['width'] it looks for its method in current table if not foudn then it looks up in __index table."
   ]
  },
  {
   "cell_type": "markdown",
   "metadata": {},
   "source": [
    "__newindex method is used when there is an update method called."
   ]
  },
  {
   "cell_type": "markdown",
   "metadata": {},
   "source": [
    "there is a raw function that allows you to bypass the metamethod: The call rawset(t, k, v) sets the value v in key k of table t without invoking any metamethod."
   ]
  },
  {
   "cell_type": "markdown",
   "metadata": {},
   "source": [
    "## Package\n",
    "\n",
    "Lua defines package inside a file which is nothing but table. In the end it should return one table which will be embedded in global dictionary.\n",
    "\n",
    "Even if doesn't return it is still present in global dictionary.\n",
    "\n",
    "Fr example if complex.lua is a file. it contains definition and returns table which will. Usually it also defines names which will be used in global table itself\n",
    "\n",
    "For example\n",
    "\n",
    "```lua\n",
    "complex = {real=0, imaginary=0}\n",
    "\n",
    "complex:new(d)\n",
    "self.real = d.real\n",
    "self.imaginary = d.imaginary\n",
    "return\n",
    "```\n",
    "if I call require(\"complex.lua\") it will always create complex class in global namespace. It can be overridden by _REQUIREDNAME as:\n",
    "\n",
    "```lua\n",
    "local P = {}   -- package\n",
    "    if _REQUIREDNAME == nil then\n",
    "      complex = P\n",
    "    else\n",
    "      _G[_REQUIREDNAME] = P\n",
    "    end\n",
    "```"
   ]
  },
  {
   "cell_type": "markdown",
   "metadata": {},
   "source": [
    "## Local environment\n",
    "One of the problem with the environment is that it is global. Any modification you do on it affects all parts of the program.\n",
    "\n",
    "For package there must be a way to use only local environment.\n",
    "\n",
    "```\n",
    "a = 1\n",
    "-- change current environment to empty table\n",
    "setfenv(1, {})\n",
    "print(a)  => nill\n",
    "```"
   ]
  },
  {
   "cell_type": "markdown",
   "metadata": {},
   "source": [
    "Here is nice way of doing it.\n",
    "```lua\n",
    "\n",
    "a = 1   -- create a global variable\n",
    "    -- change current environment\n",
    "    setfenv(1, {_G = _G})\n",
    "    _G.print(a)      --> nil\n",
    "    _G.print(_G.a)   --> 1\n",
    "    \n",
    "```\n",
    "\n",
    "or better\n",
    "```lua\n",
    "a = 1\n",
    "    local newgt = {}        -- create new environment\n",
    "    setmetatable(newgt, {__index = _G})\n",
    "    setfenv(1, newgt)    -- set it\n",
    "    print(a)          --> 1\n",
    "```\n",
    "\n",
    "__index mentions next table to search for if current table doesn't have any."
   ]
  },
  {
   "cell_type": "markdown",
   "metadata": {},
   "source": [
    "In this code, the new environment inherits both print and a from the old one. Nevertheless, any assignment goes to the new table. There is no danger of changing a really global variable by mistake, although you still can change them through _G:\n",
    "\n",
    "```lua\n",
    "    -- continuing previous code\n",
    "    a = 10\n",
    "    print(a)      --> 10\n",
    "    print(_G.a)   --> 1\n",
    "    _G.a = 20\n",
    "    print(_G.a)   --> 20\n",
    "```"
   ]
  },
  {
   "cell_type": "markdown",
   "metadata": {},
   "source": [
    "## Modules"
   ]
  },
  {
   "cell_type": "markdown",
   "metadata": {},
   "source": [
    "Create an example file mymodule.lua with the following content:\n",
    "```lua\n",
    "local mymodule = {}\n",
    "\n",
    "function mymodule.foo()\n",
    "    print(\"Hello World!\")\n",
    "end\n",
    "\n",
    "return mymodule\n",
    "```\n",
    "Now to use this new module in the interactive interpreter, just do:\n",
    "```\n",
    "> mymodule = require \"mymodule\"\n",
    "> mymodule.foo()\n",
    "Hello World!\n",
    "```"
   ]
  },
  {
   "cell_type": "markdown",
   "metadata": {},
   "source": [
    "In an actual script file, it would be recommended to make the mymodule variable local:\n",
    "```\n",
    "local mymodule = require \"mymodule\"\n",
    "mymodule.foo()\n",
    "```"
   ]
  },
  {
   "cell_type": "markdown",
   "metadata": {},
   "source": [
    "Other ways to create module\n",
    "```lua\n",
    "local function private()\n",
    "    print(\"in private function\")\n",
    "end\n",
    "\n",
    "local function foo()\n",
    "    print(\"Hello World!\")\n",
    "end\n",
    "\n",
    "local function bar()\n",
    "    private()\n",
    "    foo() -- do not prefix function call with module\n",
    "end\n",
    "\n",
    "return {\n",
    "  foo = foo,\n",
    "  bar = bar,\n",
    "}\n",
    "```"
   ]
  },
  {
   "cell_type": "markdown",
   "metadata": {},
   "source": [
    "Or we can do also like this\n",
    "```lua\n",
    "local mymodule = {}\n",
    "\n",
    "local function private()\n",
    "    print(\"in private function\")\n",
    "end\n",
    "\n",
    "function mymodule.foo()\n",
    "    print(\"Hello World!\")\n",
    "end\n",
    "\n",
    "function mymodule.bar()\n",
    "    private()\n",
    "    mymodule.foo() -- need to prefix function call with module\n",
    "end\n",
    "\n",
    "return mymodule\n",
    "\n",
    "\n",
    "```"
   ]
  },
  {
   "cell_type": "markdown",
   "metadata": {},
   "source": [
    "There is another way of doing it:\n",
    "Or if you don't want to have to save all the globals you need into locals:\n",
    "\n",
    "```lua\n",
    "local M = {}\n",
    "do\n",
    "\tlocal globaltbl = _G\n",
    "\tlocal newenv = setmetatable({}, {\n",
    "\t\t__index = function (t, k)\n",
    "\t\t\tlocal v = t[k]\n",
    "\t\t\tif v == nil then return globaltbl[k] end\n",
    "\t\t\treturn v\n",
    "\t\tend,\n",
    "\t\t__newindex = M,\n",
    "\t})\n",
    "\tif setfenv then\n",
    "\t\tsetfenv(1, newenv) -- for 5.1\n",
    "\telse\n",
    "\t\t_ENV = newenv -- for 5.2\n",
    "\tend\n",
    "end\n",
    "\n",
    "local function private()\n",
    "    print(\"in private function\")\n",
    "end\n",
    "\n",
    "function foo()\n",
    "    print(\"Hello World!\")\n",
    "end\n",
    "\n",
    "function bar()\n",
    "    private()\n",
    "    foo()\n",
    "end\n",
    "\n",
    "return M\n",
    "```"
   ]
  }
 ],
 "metadata": {
  "kernelspec": {
   "display_name": "Python 2",
   "language": "python",
   "name": "python2"
  },
  "language_info": {
   "codemirror_mode": {
    "name": "ipython",
    "version": 2
   },
   "file_extension": ".py",
   "mimetype": "text/x-python",
   "name": "python",
   "nbconvert_exporter": "python",
   "pygments_lexer": "ipython2",
   "version": "2.7.10"
  }
 },
 "nbformat": 4,
 "nbformat_minor": 0
}
